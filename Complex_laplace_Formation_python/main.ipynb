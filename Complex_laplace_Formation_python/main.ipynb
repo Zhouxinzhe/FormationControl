{
 "cells": [
  {
   "cell_type": "code",
   "execution_count": 11,
   "metadata": {},
   "outputs": [],
   "source": [
    "%matplotlib inline\n",
    "import numpy as np\n",
    "import matplotlib.pyplot as plt\n",
    "from self_functions import *\n",
    "from matplotlib.animation import FuncAnimation"
   ]
  },
  {
   "cell_type": "code",
   "execution_count": 2,
   "metadata": {},
   "outputs": [
    {
     "name": "stdout",
     "output_type": "stream",
     "text": [
      "矩阵 D:\n",
      "[[ 1  1  1  0  0  0  0]\n",
      " [-1  0  0  1  1  0  0]\n",
      " [ 0 -1  0 -1  0  1  1]\n",
      " [ 0  0 -1  0  0 -1  0]\n",
      " [ 0  0  0  0 -1  0 -1]]\n",
      "\n",
      "矩阵 L = D * D':\n",
      "[[ 3 -1 -1 -1  0]\n",
      " [-1  3 -1  0 -1]\n",
      " [-1 -1  4 -1 -1]\n",
      " [-1  0 -1  2  0]\n",
      " [ 0 -1 -1  0  2]]\n",
      "\n",
      "矩阵 H = D':\n",
      "[[ 1 -1  0  0  0]\n",
      " [ 1  0 -1  0  0]\n",
      " [ 1  0  0 -1  0]\n",
      " [ 0  1 -1  0  0]\n",
      " [ 0  1  0  0 -1]\n",
      " [ 0  0  1 -1  0]\n",
      " [ 0  0  1  0 -1]]\n"
     ]
    }
   ],
   "source": [
    "# 定义矩阵 D: D is the incidence matrix, row:5 agents, colomn:7 edges\n",
    "D = np.array([\n",
    "    [1, 1, 1, 0, 0, 0, 0],\n",
    "    [-1, 0, 0, 1, 1, 0, 0],\n",
    "    [0, -1, 0, -1, 0, 1, 1],\n",
    "    [0, 0, -1, 0, 0, -1, 0],\n",
    "    [0, 0, 0, 0, -1, 0, -1]\n",
    "])\n",
    "\n",
    "# 计算矩阵 L = D * D'\n",
    "L = np.dot(D, D.T)\n",
    "\n",
    "# 计算矩阵 H = D'\n",
    "H = D.T\n",
    "\n",
    "# 打印结果\n",
    "print(\"矩阵 D:\")\n",
    "print(D)\n",
    "print(\"\\n矩阵 L = D * D':\")\n",
    "print(L)\n",
    "print(\"\\n矩阵 H = D':\")\n",
    "print(H)"
   ]
  },
  {
   "cell_type": "code",
   "execution_count": 3,
   "metadata": {},
   "outputs": [
    {
     "name": "stdout",
     "output_type": "stream",
     "text": [
      "复数 ps: (10+3j)\n",
      "向量 Vec_ps: [10.  3.]\n"
     ]
    }
   ],
   "source": [
    "# 定义复数 ps: 要加入的机器人的初始位置\n",
    "ps = 10 + 3j\n",
    "\n",
    "# 提取实部和虚部并组成向量 Vec_ps\n",
    "Vec_ps = np.array([np.real(ps), np.imag(ps)])\n",
    "\n",
    "# 打印结果\n",
    "print(\"复数 ps:\", ps)\n",
    "print(\"向量 Vec_ps:\", Vec_ps)"
   ]
  },
  {
   "cell_type": "code",
   "execution_count": 4,
   "metadata": {},
   "outputs": [
    {
     "name": "stdout",
     "output_type": "stream",
     "text": [
      "矩阵 D:\n",
      "[[ 1  1  1  0  0  0  0]\n",
      " [-1  0  0  1  1  0  0]\n",
      " [ 0 -1  0 -1  0  1  1]\n",
      " [ 0  0 -1  0  0 -1  0]\n",
      " [ 0  0  0  0 -1  0 -1]]\n",
      "\n",
      "维度 d: 2\n",
      "\n",
      "矩阵 r:\n",
      "[[ 0.5  0.5]\n",
      " [ 0.5 -0.5]\n",
      " [ 0.   0. ]\n",
      " [-1.   1. ]\n",
      " [-1.  -1. ]]\n",
      "\n",
      "边集 edge:\n",
      "[[1 2]\n",
      " [1 3]\n",
      " [1 4]\n",
      " [2 3]\n",
      " [2 5]\n",
      " [3 4]\n",
      " [3 5]]\n"
     ]
    }
   ],
   "source": [
    "# 维度 d: dimension is 2, agents moves in 2-dimensional world\n",
    "d = 2\n",
    "\n",
    "# 获取矩阵 D 的大小: n is num of agents, m is num of edges\n",
    "n, m = D.shape\n",
    "\n",
    "# 定义 r 矩阵: r is the initial positions of the agents\n",
    "r = np.array([\n",
    "    [0.5, 0.5],\n",
    "    [0.5, -0.5],\n",
    "    [0, 0],\n",
    "    [-1, 1],\n",
    "    [-1, -1]\n",
    "])\n",
    "\n",
    "# 定义 r_0 矩阵: r_0 is the initial positions of the agents in complex number\n",
    "r_0 = np.array([0.5+0.5j,\n",
    "       0.5-0.5j,\n",
    "       0  +  0j,\n",
    "       -1 +  1j,\n",
    "       -1 -  1j\n",
    "])\n",
    "\n",
    "# 通过邻接矩阵 D 求取边集 edge\n",
    "\"\"\"\n",
    "D = \n",
    "[[ 1  1  1  0  0  0  0]\n",
    " [-1  0  0  1  1  0  0]\n",
    " [ 0 -1  0 -1  0  1  1]\n",
    " [ 0  0 -1  0  0 -1  0]\n",
    " [ 0  0  0  0 -1  0 -1]]\n",
    "\n",
    "\"\"\"\n",
    "# 找到 D 中非零元素的索引\n",
    "non_zero_indices_row, non_zero_indices_col = np.where(D != 0)\n",
    "# 计算 non_zero_indices\n",
    "non_zero_indices = sorted(non_zero_indices_row + non_zero_indices_col * n + 1)\n",
    "# 将索引转换为 Mx2 的矩阵\n",
    "edge = np.mod(np.reshape(non_zero_indices, (m, 2)), n)\n",
    "# 将 0 替换为 n\n",
    "edge[edge == 0] = n\n",
    "\n",
    "# 打印结果\n",
    "print(\"矩阵 D:\")\n",
    "print(D)\n",
    "print(\"\\n维度 d:\", d)\n",
    "print(\"\\n矩阵 r:\")\n",
    "print(r)\n",
    "print(\"\\n边集 edge:\")\n",
    "print(edge)"
   ]
  },
  {
   "cell_type": "code",
   "execution_count": 5,
   "metadata": {},
   "outputs": [
    {
     "data": {
      "image/png": "[encoded data removed]",
      "text/plain": [
       "<Figure size 640x480 with 1 Axes>"
      ]
     },
     "metadata": {},
     "output_type": "display_data"
    }
   ],
   "source": [
    "# 绘图\n",
    "plt.figure()\n",
    "\n",
    "# 绘制边（黑色线段）\n",
    "for i in range(edge.shape[0]):\n",
    "    start_point = r[edge[i, 0] - 1]\n",
    "    end_point = r[edge[i, 1] - 1]\n",
    "    plt.plot([start_point[0], end_point[0]], [start_point[1], end_point[1]], 'k', linewidth=1)\n",
    "\n",
    "# 绘制节点（黑色点）\n",
    "for i in range(r.shape[0]):\n",
    "    plt.plot(r[i, 0], r[i, 1], 'k.', markersize=30)\n",
    "\n",
    "# 绘制要加入的节点（红色点）\n",
    "plt.plot(Vec_ps[0], Vec_ps[1], 'r.', markersize=30)\n",
    "\n",
    "# 设置坐标轴范围\n",
    "plt.axis([-5, 5, -5, 5])\n",
    "\n",
    "# 显示图形\n",
    "plt.show()"
   ]
  },
  {
   "cell_type": "code",
   "execution_count": 6,
   "metadata": {},
   "outputs": [
    {
     "name": "stdout",
     "output_type": "stream",
     "text": [
      "矩阵 W:\n",
      "[[ 3. -3.j  -2. +0.j  -1.5+1.5j  0.5+1.5j  0. +0.j ]\n",
      " [-2. +0.j   3. +3.j  -1.5-1.5j  0. +0.j   0.5-1.5j]\n",
      " [-1.5-0.5j -2.5-0.5j  6. +3.j  -2. -1.j   0. -1.j ]\n",
      " [ 1. -1.j   0. +0.j  -1.5+0.5j  0.5+0.5j  0. +0.j ]\n",
      " [ 0. +0.j   1. +1.j  -1.5-0.5j  0. +0.j   0.5-0.5j]]\n",
      "\n",
      "W * r_0:\n",
      "[0.+0.j 0.+0.j 0.+0.j 0.+0.j 0.+0.j]\n",
      "\n",
      "矩阵 M_relat:\n",
      "[[0. 1. 1. 1. 0.]\n",
      " [1. 0. 1. 0. 1.]\n",
      " [1. 1. 0. 1. 1.]\n",
      " [1. 0. 1. 0. 0.]\n",
      " [0. 1. 1. 0. 0.]]\n"
     ]
    }
   ],
   "source": [
    "# construct weights W\n",
    "W = np.zeros((n, n), dtype=np.complex128)\n",
    "for i in range(n):\n",
    "    NBR = SrchNbr(i+1, edge)    # Convert to 1-based index\n",
    "    Wi = compute_weight_i(NBR, r_0, i+1, n)\n",
    "    W[i] = Wi\n",
    "    sum_i = 0\n",
    "    for j in range(n):\n",
    "        sum_i -= Wi[j]\n",
    "    W[i, i] = sum_i\n",
    "\n",
    "# examinate the result\n",
    "print(\"矩阵 W:\")\n",
    "print(W)\n",
    "print(\"\\nW * r_0:\")\n",
    "print(np.dot(W, r_0))\n",
    "\n",
    "# construct M_relat\n",
    "M_relat = np.zeros((n, n))\n",
    "for i in range(n):\n",
    "    for j in range(n):\n",
    "        if i == j:\n",
    "            M_relat[i, j] = 0\n",
    "        else:\n",
    "            if W[i, j] != 0. +0.j:\n",
    "                M_relat[i, j] = 1\n",
    "            else:\n",
    "                M_relat[i, j] = 0\n",
    "print(\"\\n矩阵 M_relat:\")\n",
    "print(M_relat)"
   ]
  },
  {
   "cell_type": "code",
   "execution_count": 7,
   "metadata": {},
   "outputs": [
    {
     "name": "stdout",
     "output_type": "stream",
     "text": [
      "矩阵 Wf:\n",
      "[[ 3. -3.j  -2. +0.j  -1.5+1.5j  0.5+1.5j  0. +0.j ]\n",
      " [-2. +0.j   3. +3.j  -1.5-1.5j  0. +0.j   0.5-1.5j]\n",
      " [-1.5-0.5j -2.5-0.5j  6. +3.j  -2. -1.j   0. -1.j ]]\n",
      "\n",
      "矩阵 Wfl:\n",
      "[[ 0.5+1.5j  0. +0.j ]\n",
      " [ 0. +0.j   0.5-1.5j]\n",
      " [-2. -1.j   0. -1.j ]]\n",
      "\n",
      "矩阵 Wff:\n",
      "[[ 3. -3.j  -2. +0.j  -1.5+1.5j]\n",
      " [-2. +0.j   3. +3.j  -1.5-1.5j]\n",
      " [-1.5-0.5j -2.5-0.5j  6. +3.j ]]\n",
      "\n",
      "Positions rL:\n",
      "[-1.+1.j -1.-1.j]\n",
      "\n",
      "Positions rF:\n",
      "[5.00000000e-01+5.00000000e-01j 5.00000000e-01-5.00000000e-01j\n",
      " 5.55111512e-17+2.22044605e-16j]\n"
     ]
    }
   ],
   "source": [
    "# choose leaders: choose the last two agents as leaders\n",
    "Wf = W[0:n-2, :]\n",
    "Wfl = W[0:n-2, n-2:]\n",
    "Wff = W[0:n-2, 0:n-2]\n",
    "\n",
    "# verify the position of followers which is determined by the chosen leaders\n",
    "rL = r_0[n-2:]\n",
    "rF = -np.linalg.inv(Wff) @ Wfl @ rL\n",
    "\n",
    "# examinate the result\n",
    "print(\"矩阵 Wf:\")\n",
    "print(Wf)\n",
    "print(\"\\n矩阵 Wfl:\")\n",
    "print(Wfl)\n",
    "print(\"\\n矩阵 Wff:\")\n",
    "print(Wff)\n",
    "print(\"\\nPositions rL:\")\n",
    "print(rL)\n",
    "print(\"\\nPositions rF:\")\n",
    "print(rF)"
   ]
  },
  {
   "cell_type": "code",
   "execution_count": 8,
   "metadata": {},
   "outputs": [
    {
     "name": "stdout",
     "output_type": "stream",
     "text": [
      "Generated trajectory qr:\n",
      "[[ 6.12323400e-17 -1.00000000e+00  1.00000000e+00  6.12323400e-17\n",
      "   0.00000000e+00  0.00000000e+00]\n",
      " [ 5.64971751e-03 -9.94350282e-01  9.94350282e-01  2.82485876e-03\n",
      "   2.82485876e-02  0.00000000e+00]\n",
      " [ 1.12994350e-02 -9.88700565e-01  9.88700565e-01  5.64971751e-03\n",
      "   5.64971751e-02  0.00000000e+00]\n",
      " ...\n",
      " [-1.84797002e-16 -1.00598802e+00  1.00000000e+00 -1.83697020e-16\n",
      "   0.00000000e+00 -5.98802395e-02]\n",
      " [-1.84247011e-16 -1.00299401e+00  1.00000000e+00 -1.83697020e-16\n",
      "   0.00000000e+00 -2.99401198e-02]\n",
      " [-1.83697020e-16 -1.00000000e+00  1.00000000e+00 -1.83697020e-16\n",
      "   0.00000000e+00  0.00000000e+00]]\n",
      "Time sequence tr:\n",
      "[0.000e+00 3.000e-02 6.000e-02 ... 6.126e+01 6.129e+01 6.132e+01]\n"
     ]
    }
   ],
   "source": [
    "# trajectory\n",
    "# Define via points\n",
    "via = np.array([\n",
    "    [0, 0],\n",
    "    [5, 0],\n",
    "    [10, 0],\n",
    "    [10, -10],\n",
    "    [10, -20],\n",
    "    [5, -20],\n",
    "    [0, -20],\n",
    "    [0, -10],\n",
    "    [0, 0]\n",
    "])\n",
    "\n",
    "# Initialize variables\n",
    "num_rand = np.random.rand()\n",
    "ra = np.zeros((n, 2, via.shape[0]))\n",
    "qvia = np.zeros((via.shape[0], 6))\n",
    "\n",
    "for j in range(via.shape[0]):\n",
    "    if j % 2 != 0:\n",
    "        if j == 3 or j == 7:\n",
    "            T1 = np.diag([2, 1])\n",
    "        else:\n",
    "            T1 = np.diag([1, 0.5])\n",
    "    else:\n",
    "        T1 = np.eye(2)\n",
    "\n",
    "    T2 = rot2(-np.pi / 2 * np.floor((j - 1) / 2))  # Rotate every two steps\n",
    "    ra[:, :, j] = r @ T2.transpose() @ T1.transpose() + via[j, :]\n",
    "    T = np.dot(T1, T2)\n",
    "    qvia[j, :] = np.concatenate((T.flatten(), via[j, :]))\n",
    "\n",
    "# Generate trajectory\n",
    "qr,dqr,ddqr,tr = mstraj_(qvia, 6, 0.03, 0.2)\n",
    "\n",
    "# Print results\n",
    "print(\"Generated trajectory qr:\")\n",
    "print(qr)\n",
    "print(\"Time sequence tr:\")\n",
    "print(tr)"
   ]
  },
  {
   "cell_type": "code",
   "execution_count": null,
   "metadata": {},
   "outputs": [
    {
     "data": {
      "image/png": "[encoded data removed]",
      "text/plain": [
       "<Figure size 1000x600 with 1 Axes>"
      ]
     },
     "metadata": {},
     "output_type": "display_data"
    }
   ],
   "source": [
    "# 初始化\n",
    "x0 = r_0  # 初始位置\n",
    "v0 = np.zeros((n, 1), dtype=complex)  # 初始速度\n",
    "x_t = x0.copy()\n",
    "v_t = v0.copy()\n",
    "x_atk = x0[1].copy()  # 攻击者初始位置\n",
    "\n",
    "Vec_xL_t_0 = r[n-2:]    # 领导者初始位置，向量表示\n",
    "Vec_vL_t_0 = np.array([[0, 0], [0, 0]])  # 领导者初始速度，向量表示\n",
    "\n",
    "# 参数设定\n",
    "thres_add = 0.05\n",
    "dt = 0.5\n",
    "loop = 0\n",
    "aL = 1  # 领导者控制参数\n",
    "aF = 0.4  # 跟随者控制参数\n",
    "L = 0.5\n",
    "getT = 0\n",
    "Wchanged = 0\n",
    "a_s = 3\n",
    "thres_us = 0.5\n",
    "\n",
    "# 跟踪误差\n",
    "# err_track = np.zeros((5, 1))\n",
    "\n",
    "# 初始化记录\n",
    "# err_all = np.zeros((5, 1000))\n",
    "# x_all = np.zeros((5, 1000))\n",
    "# err_atk_all = np.zeros((1, 1000))\n",
    "# v_all = np.zeros((5, 1000))\n",
    "# ps_all = np.zeros((1, 1000))\n",
    "\n",
    "# 初始化视频记录\n",
    "# frames = []\n",
    "\n",
    "# 主循环\n",
    "def update(frame):\n",
    "# while loop < qr.shape[0]:\n",
    "    # t时刻，领导者目标位置\n",
    "    A = qr[loop, :4].reshape(2, 2)\n",
    "    b = qr[loop, 4:6]\n",
    "    Vec_xL_t = Vec_xL_t_0 @ A.T + b # 向量表示\n",
    "    xL_target = Vec_xL_t[:, 0] + 1j * Vec_xL_t[:, 1]    # 复数表示\n",
    "\n",
    "    # 领导者速度更新\n",
    "    \n",
    "    for i in range(n - 2, n):\n",
    "        v_t[i] = -aL * (np.tanh(np.real(x_t[i] - xL_target[i - (n - 2)])) +\n",
    "                        1j * np.tanh(np.imag(x_t[i] - xL_target[i - (n - 2)])))\n",
    "\n",
    "    # 跟随者速度更新\n",
    "    xF_target = -np.linalg.inv(Wff) @ Wfl @ xL_target\n",
    "    v_t[:n - 2] = (-aF * (x_t[:n - 2] + np.linalg.inv(Wff) @ Wfl @ x_t[n - 2:n])).reshape(n-2,1) - \\\n",
    "                  np.linalg.inv(Wff) @ Wfl @ v_t[n - 2:n]\n",
    "\n",
    "    # 位置更新\n",
    "    x_t += (v_t * dt).flatten()\n",
    "    x_atk += v_t[1] * dt\n",
    "\n",
    "    # 记录数据\n",
    "    # err_track = x_t[:5] - xL_target\n",
    "    # err_atk = x_atk - x_t[1]\n",
    "    # err_all[:, loop - 1] = np.real(err_track.flatten())\n",
    "    # x_all[:, loop - 1] = np.real(x_t[:5].flatten())\n",
    "    # err_atk_all[:, loop - 1] = np.real(err_atk)\n",
    "    # v_all[:, loop - 1] = np.real(v_t[:5].flatten())\n",
    "    # ps_all[:, loop - 1] = np.real(x_atk)\n",
    "\n",
    "    # 可视化\n",
    "    # plt.figure(figsize=(8, 8))\n",
    "    ax.plot(np.real(x_t[:]), np.imag(x_t[:]), 'k.', markersize=20)\n",
    "    ax.plot(np.real(x_atk), np.imag(x_atk), 'r.', markersize=20)\n",
    "    ax.xlim(-10, 10)\n",
    "    ax.ylim(-10, 10)\n",
    "    ax.title(f\"Loop {loop}\")\n",
    "    ax.grid(True)\n",
    "    # plt.pause(0.01)\n",
    "    # plt.close()\n",
    "\n",
    "    # 保存帧\n",
    "    # frame = plt.gcf()\n",
    "    # frames.append(frame)\n",
    "\n",
    "    loop += 1\n",
    "\n",
    "fig, ax = plt.subplots(figsize=(10, 6))\n",
    "ani = FuncAnimation(fig, update, frames=int(qr.shape[0]), interval=1)\n",
    "\n",
    "plt.show()"
   ]
  },
  {
   "cell_type": "code",
   "execution_count": 17,
   "metadata": {},
   "outputs": [
    {
     "data": {
      "text/plain": [
       "array([0., 0., 0., 0., 0.])"
      ]
     },
     "execution_count": 17,
     "metadata": {},
     "output_type": "execute_result"
    }
   ],
   "source": [
    "np.zeros(5)"
   ]
  }
 ],
 "metadata": {
  "kernelspec": {
   "display_name": "formationcontrol",
   "language": "python",
   "name": "python3"
  },
  "language_info": {
   "codemirror_mode": {
    "name": "ipython",
    "version": 3
   },
   "file_extension": ".py",
   "mimetype": "text/x-python",
   "name": "python",
   "nbconvert_exporter": "python",
   "pygments_lexer": "ipython3",
   "version": "3.9.0"
  }
 },
 "nbformat": 4,
 "nbformat_minor": 2
}
